{
 "cells": [
  {
   "cell_type": "markdown",
   "id": "9bf152fe-afe8-4647-be39-7ff57629d911",
   "metadata": {},
   "source": [
    "## Plots"
   ]
  },
  {
   "cell_type": "code",
   "execution_count": 1,
   "id": "8d293455-c7f0-4e1d-b274-a29f9036d18a",
   "metadata": {
    "tags": []
   },
   "outputs": [],
   "source": [
    "import numpy as np\n",
    "import pandas as pd\n",
    "import seaborn as sns\n",
    "import matplotlib.pyplot as plt\n",
    "from sklearn.ensemble import RandomForestClassifier\n",
    "from sklearn.ensemble import RandomForestRegressor"
   ]
  },
  {
   "cell_type": "code",
   "execution_count": 2,
   "id": "09a9e698-9f6b-4371-b6dd-ed7b058ed664",
   "metadata": {
    "tags": []
   },
   "outputs": [],
   "source": [
    "plt.rcParams['font.family'] = 'serif'\n",
    "plt.rcParams['font.serif'] = ['Times New Roman'] + plt.rcParams['font.serif']"
   ]
  },
  {
   "cell_type": "code",
   "execution_count": 3,
   "id": "738901cd-8019-4a33-a823-e69baee55552",
   "metadata": {
    "tags": []
   },
   "outputs": [],
   "source": [
    "df = pd.read_csv('dados tratados/v1/data.csv')"
   ]
  },
  {
   "cell_type": "code",
   "execution_count": 4,
   "id": "f1e5b95c-9b40-47f0-b8c0-89bc348a93a1",
   "metadata": {
    "tags": []
   },
   "outputs": [],
   "source": [
    "for column in df.columns[1:-1]:\n",
    "    df[column] = df[column]/df[column].abs().max()"
   ]
  },
  {
   "cell_type": "markdown",
   "id": "c7707a25-9933-4c3d-96a4-958190792c12",
   "metadata": {
    "jp-MarkdownHeadingCollapsed": true,
    "tags": []
   },
   "source": [
    "### Plot da importância das features - Classificação"
   ]
  },
  {
   "cell_type": "code",
   "execution_count": 5,
   "id": "ce24e50a-a04f-4689-aa20-ced42601dab0",
   "metadata": {
    "tags": []
   },
   "outputs": [],
   "source": [
    "X = df.iloc[:,1:12]\n",
    "y = df.iloc[:,-1]"
   ]
  },
  {
   "cell_type": "code",
   "execution_count": 6,
   "id": "cb344a26-fc26-48ae-8692-365c152b089a",
   "metadata": {
    "tags": []
   },
   "outputs": [],
   "source": [
    "features = list(X.columns)"
   ]
  },
  {
   "cell_type": "code",
   "execution_count": 7,
   "id": "f9e69d03-629d-4481-9ba3-35e85e4b60b3",
   "metadata": {
    "tags": []
   },
   "outputs": [
    {
     "name": "stdout",
     "output_type": "stream",
     "text": [
      "Feature 1: 0.041495322997461705\n",
      "Feature 2: 0.02286084661361152\n",
      "Feature 3: 0.0\n",
      "Feature 4: 0.03404648672413626\n",
      "Feature 5: 0.0\n",
      "Feature 6: 0.0767477024040995\n",
      "Feature 7: 0.027245325095895154\n",
      "Feature 8: 0.40705079342344513\n",
      "Feature 9: 0.21904956275373416\n",
      "Feature 10: 0.035836544745782704\n",
      "Feature 11: 0.1356674152418338\n"
     ]
    }
   ],
   "source": [
    "model = RandomForestClassifier()\n",
    "\n",
    "model.fit(X, y)\n",
    "\n",
    "feature_importance_c = model.feature_importances_\n",
    "\n",
    "for i, importance in enumerate(feature_importance_c):\n",
    "    print(f'Feature {i+1}: {importance}')"
   ]
  },
  {
   "cell_type": "code",
   "execution_count": 8,
   "id": "1a0eb503-92ff-40d4-905b-07a9b86e94ee",
   "metadata": {
    "tags": []
   },
   "outputs": [],
   "source": [
    "# index = np.argsort(feature_importance_c)\n",
    "# feature_importance_c = np.array(feature_importance_c)[index]\n",
    "# features = np.array(features)[index]"
   ]
  },
  {
   "cell_type": "code",
   "execution_count": 9,
   "id": "6a6dc9f6-b572-4dee-bf31-c75220a1f831",
   "metadata": {
    "tags": []
   },
   "outputs": [
    {
     "data": {
      "image/png": "[encoded data removed]",
      "text/plain": [
       "<Figure size 640x480 with 1 Axes>"
      ]
     },
     "metadata": {},
     "output_type": "display_data"
    }
   ],
   "source": [
    "plt.barh(features,feature_importance_c)\n",
    "\n",
    "plt.xlabel('Feature'),plt.ylabel('Valor de importância'), plt.title('Importância das features - Classificação')\n",
    "\n",
    "# plt.savefig('figs/importancia_class.png')\n",
    "\n",
    "plt.show()"
   ]
  },
  {
   "cell_type": "markdown",
   "id": "111cfd28-6112-4cc2-ba69-d0080966c823",
   "metadata": {
    "tags": []
   },
   "source": [
    "### Plot da importância das features - Regressão"
   ]
  },
  {
   "cell_type": "code",
   "execution_count": 10,
   "id": "b7ab438a-6859-4343-af06-bdff941b5c6d",
   "metadata": {
    "tags": []
   },
   "outputs": [],
   "source": [
    "abs_1 = list(df['Abs 1º Pico'])\n",
    "abs_2 = list(df['Abs 2º Pico'])\n",
    "abs_3 = list(df['Abs 3º Pico'])"
   ]
  },
  {
   "cell_type": "code",
   "execution_count": 11,
   "id": "fd46963f-3014-440d-a784-46c44ed94e0e",
   "metadata": {
    "tags": []
   },
   "outputs": [],
   "source": [
    "for i in range(len(abs_1)):\n",
    "    if np.isnan(abs_1[i]):\n",
    "        abs_1[i] = 0\n",
    "\n",
    "for i in range(len(abs_2)):\n",
    "    if np.isnan(abs_2[i]):\n",
    "        abs_2[i] = 0\n",
    "\n",
    "for i in range(len(abs_3)):\n",
    "    if np.isnan(abs_3[i]):\n",
    "        abs_3[i] = 0"
   ]
  },
  {
   "cell_type": "code",
   "execution_count": 12,
   "id": "3a69d080-8354-495b-86c9-cd98578904d9",
   "metadata": {
    "tags": []
   },
   "outputs": [],
   "source": [
    "df['Abs 1º Pico'] = abs_1\n",
    "df['Abs 2º Pico'] = abs_2\n",
    "df['Abs 3º Pico'] = abs_3"
   ]
  },
  {
   "cell_type": "code",
   "execution_count": 13,
   "id": "472960c1-0c30-412d-a15f-3e69e1e53465",
   "metadata": {
    "tags": []
   },
   "outputs": [],
   "source": [
    "X = df.iloc[:,1:12]\n",
    "y = df.iloc[:,-4:-1]"
   ]
  },
  {
   "cell_type": "code",
   "execution_count": 14,
   "id": "59ba2549-c268-453e-a4fc-14256ee2bedb",
   "metadata": {
    "tags": []
   },
   "outputs": [],
   "source": [
    "features = list(X.columns)"
   ]
  },
  {
   "cell_type": "code",
   "execution_count": 15,
   "id": "9b7c67c5-798f-438a-9344-d5c1f857e19e",
   "metadata": {
    "tags": []
   },
   "outputs": [
    {
     "name": "stdout",
     "output_type": "stream",
     "text": [
      "Feature 1: 0.2088183783993653\n",
      "Feature 2: 0.010571008583007602\n",
      "Feature 3: 0.0\n",
      "Feature 4: 0.01416857775001268\n",
      "Feature 5: 0.0\n",
      "Feature 6: 0.06155887256378985\n",
      "Feature 7: 0.012636330849027978\n",
      "Feature 8: 0.48429565564728844\n",
      "Feature 9: 0.15201589989531789\n",
      "Feature 10: 0.009707898434558519\n",
      "Feature 11: 0.04622737787763154\n"
     ]
    }
   ],
   "source": [
    "model = RandomForestRegressor()\n",
    "\n",
    "model.fit(X, y)\n",
    "\n",
    "feature_importance_r = model.feature_importances_\n",
    "\n",
    "for i, importance in enumerate(feature_importance_r):\n",
    "    print(f'Feature {i+1}: {importance}')"
   ]
  },
  {
   "cell_type": "code",
   "execution_count": 16,
   "id": "9af79036-b424-44c5-a9a9-d5ff0b70cdc6",
   "metadata": {
    "tags": []
   },
   "outputs": [],
   "source": [
    "# index = np.argsort(feature_importance_r)\n",
    "# feature_importance_r = np.array(feature_importance_r)[index]\n",
    "# features = np.array(features)[index]"
   ]
  },
  {
   "cell_type": "code",
   "execution_count": 17,
   "id": "22a81d2d-158c-4c89-8439-407ca10c322e",
   "metadata": {
    "tags": []
   },
   "outputs": [
    {
     "data": {
      "image/png": "[encoded data removed]",
      "text/plain": [
       "<Figure size 640x480 with 1 Axes>"
      ]
     },
     "metadata": {},
     "output_type": "display_data"
    }
   ],
   "source": [
    "plt.barh(features,feature_importance_r)\n",
    "\n",
    "plt.xlabel('Feature'),plt.ylabel('Valor de importância'), plt.title('Importância das features - Classificação')\n",
    "\n",
    "plt.show()"
   ]
  },
  {
   "cell_type": "markdown",
   "id": "93c5766e-0c69-4d2c-bf96-faf211fbbfdf",
   "metadata": {
    "tags": []
   },
   "source": [
    "### Junção importâncias"
   ]
  },
  {
   "cell_type": "code",
   "execution_count": 18,
   "id": "9a101117-fecd-4bc9-957e-4b879553ff38",
   "metadata": {
    "tags": []
   },
   "outputs": [],
   "source": [
    "bar = 0.35\n",
    "pos_r = np.arange(len(features))\n",
    "pos_c = pos_r + bar"
   ]
  },
  {
   "cell_type": "code",
   "execution_count": 19,
   "id": "b9d97f95-21d6-4a7c-b862-85d04391afde",
   "metadata": {
    "tags": []
   },
   "outputs": [],
   "source": [
    "join = feature_importance_r + feature_importance_c"
   ]
  },
  {
   "cell_type": "code",
   "execution_count": 20,
   "id": "d4d8e386-8aa1-4f4e-921f-aa92df9b98a0",
   "metadata": {
    "tags": []
   },
   "outputs": [],
   "source": [
    "index = np.argsort(join)\n",
    "\n",
    "feature_importance_c = np.array(feature_importance_c)[index]\n",
    "feature_importance_r = np.array(feature_importance_r)[index]\n",
    "\n",
    "features = np.array(features)[index]"
   ]
  },
  {
   "cell_type": "code",
   "execution_count": 32,
   "id": "fa598051-00d2-48ff-8182-ebbc8d3ab2ad",
   "metadata": {
    "tags": []
   },
   "outputs": [
    {
     "data": {
      "image/png": "[encoded data removed]",
      "text/plain": [
       "<Figure size 800x500 with 1 Axes>"
      ]
     },
     "metadata": {},
     "output_type": "display_data"
    }
   ],
   "source": [
    "plt.figure(figsize=(8, 5))\n",
    "plt.barh(pos_r, feature_importance_r, bar, label='Regressão')\n",
    "plt.barh(pos_c, feature_importance_c, bar, label='Classificação')\n",
    "# plt.xlabel('Features')\n",
    "plt.ylabel('Reagente')\n",
    "plt.title('Importância das features')\n",
    "plt.yticks(pos_r + bar/2, features)\n",
    "plt.legend()\n",
    "plt.savefig('figs/importancia.png')\n",
    "plt.show()"
   ]
  },
  {
   "cell_type": "markdown",
   "id": "1f190c72-3800-498c-97df-bb2971c6b935",
   "metadata": {
    "tags": []
   },
   "source": [
    "### Matriz de correlação de classificação"
   ]
  },
  {
   "cell_type": "code",
   "execution_count": 22,
   "id": "b31cb74c-edaf-4d41-af2f-5dd194d4c3a6",
   "metadata": {
    "tags": []
   },
   "outputs": [],
   "source": [
    "res = list(df['Resultado'])"
   ]
  },
  {
   "cell_type": "code",
   "execution_count": 23,
   "id": "2c60f5fe-8047-4d13-95df-b9cd45127eb5",
   "metadata": {
    "tags": []
   },
   "outputs": [],
   "source": [
    "res_2 = []\n",
    "\n",
    "for i in range(len(res)):\n",
    "    if res[i] == 'NF' or res[i] == 'FI':\n",
    "        res_2.append(False)\n",
    "    else:\n",
    "        res_2.append(True)"
   ]
  },
  {
   "cell_type": "code",
   "execution_count": 24,
   "id": "f8c8e3a4-54a2-403e-9e9d-2852b02ae18b",
   "metadata": {
    "tags": []
   },
   "outputs": [],
   "source": [
    "df_novo = df.iloc[:,1:12]"
   ]
  },
  {
   "cell_type": "code",
   "execution_count": 25,
   "id": "b025060f-2a56-4769-aa9c-c35e92e02859",
   "metadata": {
    "tags": []
   },
   "outputs": [],
   "source": [
    "df_novo['Resultado'] = res_2"
   ]
  },
  {
   "cell_type": "code",
   "execution_count": 26,
   "id": "c4f558c6-756b-4feb-92bc-0498d31e5eda",
   "metadata": {
    "tags": []
   },
   "outputs": [
    {
     "data": {
      "text/plain": [
       "Mctab   -0.245530\n",
       "Qctab   -0.309016\n",
       "Mau           NaN\n",
       "Qau     -0.309016\n",
       "Mag           NaN\n",
       "Qag      0.233734\n",
       "Maa     -0.309016\n",
       "Qaa      0.327152\n",
       "Qseed    0.612487\n",
       "Mhcl    -0.115163\n",
       "Qhcl    -0.083154\n",
       "Name: Resultado, dtype: float64"
      ]
     },
     "execution_count": 26,
     "metadata": {},
     "output_type": "execute_result"
    }
   ],
   "source": [
    "df_novo.corr().iloc[:-1,-1]"
   ]
  }
 ],
 "metadata": {
  "kernelspec": {
   "display_name": "zanipy",
   "language": "python",
   "name": "zanipy"
  },
  "language_info": {
   "codemirror_mode": {
    "name": "ipython",
    "version": 3
   },
   "file_extension": ".py",
   "mimetype": "text/x-python",
   "name": "python",
   "nbconvert_exporter": "python",
   "pygments_lexer": "ipython3",
   "version": "3.10.6"
  }
 },
 "nbformat": 4,
 "nbformat_minor": 5
}
